{
 "cells": [
  {
   "cell_type": "code",
   "execution_count": 1,
   "id": "ff1db750-ae85-4037-ac8c-cae8447a9b49",
   "metadata": {},
   "outputs": [],
   "source": [
    "import requests\n",
    "from bs4 import BeautifulSoup\n",
    "import pandas as pd"
   ]
  },
  {
   "cell_type": "code",
   "execution_count": 2,
   "id": "ba3212f7-c6c6-428f-98b3-da4176116a14",
   "metadata": {},
   "outputs": [],
   "source": [
    "def find_highest_rated_link(course_name, ratings_df):\n",
    "    ratings_df['Titles'] = ratings_df['Titles'].str.lower().str.strip()\n",
    "    user_course_words = course_name.lower().strip().split()\n",
    "    filtered_df = ratings_df[ratings_df['Titles'].apply(lambda x: any(word in x for word in user_course_words))]\n",
    "    if not filtered_df.empty:\n",
    "        max_rating_row = filtered_df.loc[filtered_df['Ratings'].idxmax()]\n",
    "        return max_rating_row['Links']\n",
    "    else:\n",
    "        return None"
   ]
  },
  {
   "cell_type": "code",
   "execution_count": 3,
   "id": "4d6f0f14-1c23-4d75-b98c-0526178df1ee",
   "metadata": {},
   "outputs": [],
   "source": [
    "excel_file_path = 'courses.xlsx'\n",
    "try:\n",
    "     ratings_df = pd.read_excel(excel_file_path)\n",
    "except FileNotFoundError:\n",
    "    print(f\"Error: File '{excel_file_path}' not found.\")\n",
    "    ratings_df = pd.DataFrame()"
   ]
  },
  {
   "cell_type": "code",
   "execution_count": 4,
   "id": "a2edfa6c-cda7-4096-ac2c-93f5cca63674",
   "metadata": {},
   "outputs": [
    {
     "name": "stdout",
     "output_type": "stream",
     "text": [
      "Enter the  course name: python\n"
     ]
    }
   ],
   "source": [
    "user_course = input(\"Enter the  course name: \")"
   ]
  },
  {
   "cell_type": "code",
   "execution_count": 5,
   "id": "8be7d1e9-ce70-4ff1-8733-97b9abbc960b",
   "metadata": {},
   "outputs": [],
   "source": [
    "course_link = find_highest_rated_link(user_course, ratings_df)"
   ]
  },
  {
   "cell_type": "code",
   "execution_count": 6,
   "id": "1a390d7f-2e51-4758-8b9e-350cd60a56ad",
   "metadata": {},
   "outputs": [
    {
     "name": "stdout",
     "output_type": "stream",
     "text": [
      "The link for 'python' is: https://www.udemy.com/courses/search/?q=python+programming+basics&ratings=4.5&sort=relevance&src=sac\n"
     ]
    }
   ],
   "source": [
    "if course_link:\n",
    "    print(f\"The link for '{user_course}' is: {course_link}\")\n",
    "else:\n",
    "    print(\"course is not found\")"
   ]
  },
  {
   "cell_type": "code",
   "execution_count": null,
   "id": "d390e5ed-3c1c-4b16-9507-bce30d75c713",
   "metadata": {},
   "outputs": [],
   "source": []
  }
 ],
 "metadata": {
  "kernelspec": {
   "display_name": "Python 3 (ipykernel)",
   "language": "python",
   "name": "python3"
  },
  "language_info": {
   "codemirror_mode": {
    "name": "ipython",
    "version": 3
   },
   "file_extension": ".py",
   "mimetype": "text/x-python",
   "name": "python",
   "nbconvert_exporter": "python",
   "pygments_lexer": "ipython3",
   "version": "3.9.13"
  }
 },
 "nbformat": 4,
 "nbformat_minor": 5
}
